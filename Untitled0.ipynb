{
  "nbformat": 4,
  "nbformat_minor": 0,
  "metadata": {
    "colab": {
      "provenance": [],
      "authorship_tag": "ABX9TyOcZk+VvQx5WpmGUICrFaIZ",
      "include_colab_link": true
    },
    "kernelspec": {
      "name": "python3",
      "display_name": "Python 3"
    },
    "language_info": {
      "name": "python"
    }
  },
  "cells": [
    {
      "cell_type": "markdown",
      "metadata": {
        "id": "view-in-github",
        "colab_type": "text"
      },
      "source": [
        "<a href=\"https://colab.research.google.com/github/Haerul78/Learn-Python/blob/main/Untitled0.ipynb\" target=\"_parent\"><img src=\"https://colab.research.google.com/assets/colab-badge.svg\" alt=\"Open In Colab\"/></a>"
      ]
    },
    {
      "cell_type": "code",
      "execution_count": 1,
      "metadata": {
        "colab": {
          "base_uri": "https://localhost:8080/"
        },
        "id": "gjYs8hyrJWQ2",
        "outputId": "74d0d387-db0d-47f8-aa65-506c6d885313"
      },
      "outputs": [
        {
          "output_type": "stream",
          "name": "stdout",
          "text": [
            "BMI Anda adalah 22.86\n",
            "Anda termasuk dalam kategori Normal\n"
          ]
        }
      ],
      "source": [
        "def calculate_bmi(weight, height):\n",
        "  \"\"\"Menghitung Body Mass Index\"\"\"\n",
        "  bmi = weight / (height ** 2)\n",
        "  return round(bmi, 2)\n",
        "\n",
        "def classify_bmi(bmi):\n",
        "  \"\"\"Mengklasifikasikan BMI\"\"\"\n",
        "  if bmi < 18:\n",
        "    return \"Kekurangan Berat Badan\"\n",
        "  elif bmi < 25:\n",
        "    return \"Normal\"\n",
        "  elif bmi < 30:\n",
        "    return \"Kelebihan Berat Badan\"\n",
        "  else:\n",
        "    return \"Obesitas\"\n",
        "\n",
        "weight, height = 70, 1.75\n",
        "bmi = calculate_bmi(weight, height)\n",
        "print(f\"BMI Anda adalah {bmi}\")\n",
        "print(f\"Anda termasuk dalam kategori {classify_bmi(bmi)}\")"
      ]
    },
    {
      "cell_type": "code",
      "source": [
        "class DataAnalyst:\n",
        "    def __init__(self, name, experience_years):\n",
        "        self.name = name\n",
        "        self.experience_years = experience_years\n",
        "        self.skills = []\n",
        "\n",
        "    def add_skill(self, skill):\n",
        "        self.skills.append(skill)\n",
        "\n",
        "    def get_level(self):\n",
        "        if self.experience_years < 2:\n",
        "            return \"Junior\"\n",
        "        elif self.experience_years < 5:\n",
        "            return \"Mid-level\"\n",
        "        else:\n",
        "            return \"Senior\"\n",
        "\n",
        "    def __str__(self):\n",
        "        return f\"{self.name} - {self.get_level()} Data Analyst\"\n",
        "\n",
        "analyst =  DataAnalyst(\"Alice\", 3)\n",
        "analyst.add_skill(\"Python\")\n",
        "analyst.add_skill(\"SQL\")\n",
        "print(analyst)"
      ],
      "metadata": {
        "colab": {
          "base_uri": "https://localhost:8080/"
        },
        "id": "Di8dVQ_dLno6",
        "outputId": "1b1c364c-5f37-4a95-de22-a71d6af219c7"
      },
      "execution_count": 2,
      "outputs": [
        {
          "output_type": "stream",
          "name": "stdout",
          "text": [
            "Alice - Mid-level Data Analyst\n"
          ]
        }
      ]
    },
    {
      "cell_type": "code",
      "source": [
        "def safe_divide(a, b):\n",
        "    try:\n",
        "        result = a / b\n",
        "        return result\n",
        "    except ZeroDivisionError:\n",
        "        print(\"Error: Tidak bisa membagi dengan nol!\")\n",
        "        return None\n",
        "    except TypeError:\n",
        "        print(\"Error: Input harus berupa angka!\")\n",
        "        return None\n",
        "    finally:\n",
        "        print(\"Operasi selesai\")\n",
        "\n",
        "# Testing\n",
        "print(safe_divide(10, 2))   # 5.0\n",
        "print(safe_divide(10, 0))   # Error message + None"
      ],
      "metadata": {
        "colab": {
          "base_uri": "https://localhost:8080/"
        },
        "id": "MOKJxKdOL-K8",
        "outputId": "efbfc30d-948c-4867-a272-1e37ab8e4285"
      },
      "execution_count": 3,
      "outputs": [
        {
          "output_type": "stream",
          "name": "stdout",
          "text": [
            "Operasi selesai\n",
            "5.0\n",
            "Error: Tidak bisa membagi dengan nol!\n",
            "Operasi selesai\n",
            "None\n"
          ]
        }
      ]
    },
    {
      "cell_type": "markdown",
      "source": [
        "Numpy Learning"
      ],
      "metadata": {
        "id": "sheWf-ClNkPh"
      }
    },
    {
      "cell_type": "code",
      "source": [
        "import numpy as np\n",
        "\n",
        "# Membuat array\n",
        "arr1d = np.array([1, 2, 3, 4, 5])\n",
        "arr2d = np.array([[1, 2, 3], [4, 5, 6]])\n",
        "arr3d = np.array([[[1, 2], [3, 4]], [[5, 6], [7, 8]]])\n",
        "\n",
        "print(f\"1D Array: {arr1d}\")\n",
        "print(f\"2D Array:\\n{arr2d}\")\n",
        "print(f\"3D Array:\\n{arr3d}\")"
      ],
      "metadata": {
        "colab": {
          "base_uri": "https://localhost:8080/"
        },
        "id": "aYOc9dzXMmD4",
        "outputId": "4635dd43-0245-4f39-c732-ca3ca6397706"
      },
      "execution_count": 4,
      "outputs": [
        {
          "output_type": "stream",
          "name": "stdout",
          "text": [
            "1D Array: [1 2 3 4 5]\n",
            "2D Array:\n",
            "[[1 2 3]\n",
            " [4 5 6]]\n",
            "3D Array:\n",
            "[[[1 2]\n",
            "  [3 4]]\n",
            "\n",
            " [[5 6]\n",
            "  [7 8]]]\n"
          ]
        }
      ]
    },
    {
      "cell_type": "markdown",
      "source": [
        "- ```np.array([1, 2, 3, 4, 5])``` akan membentuk array 1 dimensi atau vektor\n",
        "$$ \\begin{pmatrix} 1 \\\\ 2 \\\\ 3 \\\\ 4 \\\\ 5 \\end{pmatrix} $$\n",
        "- ```np.array([[1, 2, 3], [4, 5, 6]])``` akan membentuk array 2 dimensi\n",
        "$$ \\begin{pmatrix}\n",
        "1 & 2 & 3 \\\\\n",
        "4 & 5 & 6\n",
        "\\end{pmatrix}\n",
        "$$\n",
        "- ```np.array([[[1, 2], [3, 4]], [[5, 6], [7, 8]]])``` akan membentuk array 3 dimensi\n",
        "$$\n",
        "\\text{Lapisan 1:}\n",
        "\\begin{pmatrix}\n",
        "1 & 2 \\\\\n",
        "3 & 4\n",
        "\\end{pmatrix}\n",
        "\\quad\n",
        "\\text{Lapisan 2:}\n",
        "\\begin{pmatrix}\n",
        "5 & 6 \\\\\n",
        "7 & 8\n",
        "\\end{pmatrix}\n",
        "$$"
      ],
      "metadata": {
        "id": "j_BpBqJ5IFQA"
      }
    },
    {
      "cell_type": "code",
      "source": [
        "import numpy as np\n",
        "\n",
        "arr = np.array([[1, 2, 3, 4], [5, 6, 7, 8], [9, 10, 11, 12]])\n",
        "\n",
        "# Properties\n",
        "print(arr)\n",
        "print(f\"Shape: {arr.shape}\")        # (3, 4)\n",
        "print(f\"Size: {arr.size}\")          # 12\n",
        "print(f\"Dimensions: {arr.ndim}\")    # 2\n",
        "print(f\"Data type: {arr.dtype}\")    # int64\n",
        "\n",
        "# Reshaping\n",
        "reshaped = arr.reshape(4, 3)\n",
        "print(f\"Reshaped:\\n{reshaped}\")\n",
        "\n",
        "# Flattening\n",
        "flattened = arr.flatten()\n",
        "print(f\"Flattened: {flattened}\")"
      ],
      "metadata": {
        "colab": {
          "base_uri": "https://localhost:8080/"
        },
        "id": "QJ0P1_vfMvFU",
        "outputId": "e2eebc39-5819-4849-c3fa-2f4393a66d86"
      },
      "execution_count": 8,
      "outputs": [
        {
          "output_type": "stream",
          "name": "stdout",
          "text": [
            "[[ 1  2  3  4]\n",
            " [ 5  6  7  8]\n",
            " [ 9 10 11 12]]\n",
            "Shape: (3, 4)\n",
            "Size: 12\n",
            "Dimensions: 2\n",
            "Data type: int64\n",
            "Reshaped:\n",
            "[[ 1  2  3]\n",
            " [ 4  5  6]\n",
            " [ 7  8  9]\n",
            " [10 11 12]]\n",
            "Flattened: [ 1  2  3  4  5  6  7  8  9 10 11 12]\n"
          ]
        }
      ]
    },
    {
      "cell_type": "markdown",
      "source": [
        "Numpy Property dan Method\n",
        "\n",
        "__Property__\n",
        "- __arr.shape__: mendapatkan bentuk array dari baris dan kolom.\n",
        "- __arr.size__: mendapatkan total jumlah elemen.\n",
        "- __arr.ndim__: mendapatkan jumlah dimensi array.\n",
        "- __arr.dtype__: mendapatkan tipe data.\n",
        "\n",
        "__Method__\n",
        "- __arr.reshape(rows, colums)__: Mengubah bentuk array tanpa mengubah isinya. Return nya Array baru dengan shape yang diminta\n",
        "- __arr.flatten()__: Meratakan array jadi 1 dimensi. Return nya Array 1D dengan semua elemen berjajar\n",
        "\n"
      ],
      "metadata": {
        "id": "99R8pvzlI286"
      }
    },
    {
      "cell_type": "code",
      "source": [
        "import numpy as np\n",
        "\n",
        "# Zeros, ones, dan empty\n",
        "zeros = np.zeros((3, 4))\n",
        "print(f\"zeros:\\n{zeros}\")\n",
        "ones = np.ones((2, 3))\n",
        "print(f\"ones:\\n{ones}\")\n",
        "empty = np.empty((2, 2))\n",
        "print(f\"empty:\\n{empty}\")\n",
        "\n",
        "# Arange dan linspace\n",
        "arange_arr = np.arange(0, 10, 2)    # [0, 2, 4, 6, 8]\n",
        "print(f\"arange:\\n{arange_arr}\")\n",
        "linspace_arr = np.linspace(0, 1, 5) # [0, 0.25, 0.5, 0.75, 1.0]\n",
        "print(f\"linspace:\\n{linspace_arr}\")\n",
        "\n",
        "# Random arrays\n",
        "random_arr = np.random.random((3, 3))\n",
        "print(f\"random:\\n{random_arr}\")\n",
        "random_int = np.random.randint(1, 100, (3, 3))\n",
        "print(f\"randint:\\n{random_int}\")\n",
        "\n",
        "# Identity matrix\n",
        "identity = np.eye(3)\n",
        "print(f\"Identity Matrix:\\n{identity}\")"
      ],
      "metadata": {
        "colab": {
          "base_uri": "https://localhost:8080/"
        },
        "id": "Dfa1VELDNIO1",
        "outputId": "16cab944-e1c7-446f-9f10-6066aa200728"
      },
      "execution_count": 3,
      "outputs": [
        {
          "output_type": "stream",
          "name": "stdout",
          "text": [
            "zeros:\n",
            "[[0. 0. 0. 0.]\n",
            " [0. 0. 0. 0.]\n",
            " [0. 0. 0. 0.]]\n",
            "ones:\n",
            "[[1. 1. 1.]\n",
            " [1. 1. 1.]]\n",
            "empty:\n",
            "[[2.02991808e-315 0.00000000e+000]\n",
            " [6.74400942e-310 6.74400942e-310]]\n",
            "arange:\n",
            "[0 2 4 6 8]\n",
            "linspace:\n",
            "[0.   0.25 0.5  0.75 1.  ]\n",
            "random:\n",
            "[[0.59100472 0.19746427 0.87634513]\n",
            " [0.97804946 0.47605459 0.31123684]\n",
            " [0.57194685 0.13148422 0.29006604]]\n",
            "randint:\n",
            "[[67 82 32]\n",
            " [ 9 75 31]\n",
            " [50  4 66]]\n",
            "Identity Matrix:\n",
            "[[1. 0. 0.]\n",
            " [0. 1. 0.]\n",
            " [0. 0. 1.]]\n"
          ]
        }
      ]
    },
    {
      "cell_type": "markdown",
      "source": [
        "- __np.zeros((rows, colums))__: Method ini membuat array baru yang berisi semua angka nol (0).\n",
        "- __np.ones((rows, colums))__: Method ini membuat array baru yang berisi semua angka satu (1).\n",
        "- __np.empty((rows, colums))__: Method ini membuat array baru dengan bentuk yang ditentukan (2, 2), tetapi isinya tidak diinisialisasi. Array ini akan berisi nilai \"sampah\" atau random dari memori yang dialokasikan. Tujuannya adalah untuk alokasi memori yang lebih cepat jika Anda berencana untuk langsung mengisi array tersebut dengan data lain nanti.\n",
        "- __np.arange(start, stop, step)__: Mirip dengan fungsi range() di Python. Method ini membuat array yang berisi angka-angka dalam rentang tertentu.\n",
        "- __np.linspace(start, stop, num)__: Method ini juga membuat array dalam rentang tertentu, tetapi dengan cara yang berbeda. Ia menghasilkan angka yang jaraknya sama (equal spacing) antara awal dan akhir.\n",
        "- __np.random.random((rows, colums))__: Method ini membuat array yang diisi dengan angka desimal acak antara 0.0 dan 1.0.\n",
        "- __np.random.randint(low, high, size)__: Method ini membuat array yang diisi dengan bilangan bulat acak.\n",
        "- __np.eye(N)__: Matriks ini adalah matriks persegi di mana semua elemen di diagonal utama adalah satu (1), dan sisanya adalah nol (0). Parameter 3 menentukan dimensi matriks persegi, yaitu 3x3."
      ],
      "metadata": {
        "id": "CAoKUhftgboZ"
      }
    },
    {
      "cell_type": "code",
      "source": [
        "import numpy as np\n",
        "\n",
        "# Element-wise operations\n",
        "a = np.array([1, 2, 3, 4])\n",
        "b = np.array([5, 6, 7, 8])\n",
        "\n",
        "print(f\"Addition: {a + b}\")       # [6, 8, 10, 12]\n",
        "print(f\"Multiplication: {a * b}\") # [5, 12, 21, 32]\n",
        "print(f\"Power: {a ** 2}\")         # [1, 4, 9, 16]\n",
        "\n",
        "# Matrix operations\n",
        "matrix_a = np.array([[1, 2], [3, 4]])\n",
        "matrix_b = np.array([[5, 6], [7, 8]])\n",
        "\n",
        "# Dot product\n",
        "dot_product = np.dot(matrix_a, matrix_b)\n",
        "print(f\"Dot Product:\\n{dot_product}\")\n",
        "\n",
        "# Matrix multiplication (Python 3.5+)\n",
        "matmul = matrix_a @ matrix_b\n",
        "print(f\"Matrix Multiplication:\\n{matmul}\")"
      ],
      "metadata": {
        "colab": {
          "base_uri": "https://localhost:8080/"
        },
        "id": "ELZxV0XBNSec",
        "outputId": "e39a33c6-2dfc-4d57-9d42-542f0659cfc0"
      },
      "execution_count": 11,
      "outputs": [
        {
          "output_type": "stream",
          "name": "stdout",
          "text": [
            "Addition: [ 6  8 10 12]\n",
            "Multiplication: [ 5 12 21 32]\n",
            "Power: [ 1  4  9 16]\n",
            "Dot Product:\n",
            "[[19 22]\n",
            " [43 50]]\n",
            "Matrix Multiplication:\n",
            "[[19 22]\n",
            " [43 50]]\n"
          ]
        }
      ]
    },
    {
      "cell_type": "code",
      "source": [
        "import numpy as np\n",
        "\n",
        "data = np.array([[1, 2, 3], [4, 5, 6], [7, 8, 9]])\n",
        "\n",
        "# Basic statistics\n",
        "print(f\"Mean: {np.mean(data)}\")           # 5.0\n",
        "print(f\"Median: {np.median(data)}\")       # 5.0\n",
        "print(f\"Standard Deviation: {np.std(data)}\")  # 2.58\n",
        "print(f\"Sum: {np.sum(data)}\")             # 45\n",
        "print(f\"Min: {np.min(data)}\")             # 1\n",
        "print(f\"Max: {np.max(data)}\")             # 9\n",
        "\n",
        "# Axis-specific operations\n",
        "print(f\"Mean per column: {np.mean(data, axis=0)}\")  # [4, 5, 6]\n",
        "print(f\"Sum per row: {np.sum(data, axis=1)}\")       # [6, 15, 24]"
      ],
      "metadata": {
        "colab": {
          "base_uri": "https://localhost:8080/"
        },
        "id": "OHcSu0Z1NVA_",
        "outputId": "3717e801-d2d3-4a64-d1eb-9d5a5d226b68"
      },
      "execution_count": 12,
      "outputs": [
        {
          "output_type": "stream",
          "name": "stdout",
          "text": [
            "Mean: 5.0\n",
            "Median: 5.0\n",
            "Standard Deviation: 2.581988897471611\n",
            "Sum: 45\n",
            "Min: 1\n",
            "Max: 9\n",
            "Mean per column: [4. 5. 6.]\n",
            "Sum per row: [ 6 15 24]\n"
          ]
        }
      ]
    },
    {
      "cell_type": "code",
      "source": [
        "import numpy as np\n",
        "\n",
        "arr = np.array([[1, 2, 3, 4], [5, 6, 7, 8], [9, 10, 11, 12]])\n",
        "\n",
        "# Basic indexing\n",
        "print(f\"Element [1,2]: {arr[1, 2]}\")      # 7\n",
        "print(f\"First row: {arr[0, :]}\")          # [1, 2, 3, 4]\n",
        "print(f\"Last column: {arr[:, -1]}\")       # [4, 8, 12]\n",
        "\n",
        "# Boolean indexing\n",
        "mask = arr > 5\n",
        "print(f\"Elements > 5: {arr[mask]}\")       # [6, 7, 8, 9, 10, 11, 12]\n",
        "\n",
        "# Fancy indexing\n",
        "indices = [0, 2]\n",
        "print(f\"Rows 0 and 2:\\n{arr[indices]}\")"
      ],
      "metadata": {
        "colab": {
          "base_uri": "https://localhost:8080/"
        },
        "id": "B4orMD0jNW1n",
        "outputId": "20a6c170-f44b-42db-ca85-b89649cdce12"
      },
      "execution_count": 13,
      "outputs": [
        {
          "output_type": "stream",
          "name": "stdout",
          "text": [
            "Element [1,2]: 7\n",
            "First row: [1 2 3 4]\n",
            "Last column: [ 4  8 12]\n",
            "Elements > 5: [ 6  7  8  9 10 11 12]\n",
            "Rows 0 and 2:\n",
            "[[ 1  2  3  4]\n",
            " [ 9 10 11 12]]\n"
          ]
        }
      ]
    },
    {
      "cell_type": "code",
      "source": [
        "import numpy as np\n",
        "\n",
        "# Broadcasting allows operations between arrays of different shapes\n",
        "a = np.array([[1, 2, 3], [4, 5, 6]])\n",
        "b = np.array([10, 20, 30])\n",
        "\n",
        "result = a + b  # b is broadcasted to match a's shape\n",
        "print(f\"Broadcasting result:\\n{result}\")\n",
        "# [[11, 22, 33]\n",
        "#  [14, 25, 36]]\n",
        "\n",
        "# Broadcasting with scalar\n",
        "scalar_result = a * 2\n",
        "print(f\"Scalar multiplication:\\n{scalar_result}\")"
      ],
      "metadata": {
        "colab": {
          "base_uri": "https://localhost:8080/"
        },
        "id": "yDKZ5Q3wNZGQ",
        "outputId": "a9370094-97d6-48af-b7e0-890a4b449210"
      },
      "execution_count": 14,
      "outputs": [
        {
          "output_type": "stream",
          "name": "stdout",
          "text": [
            "Broadcasting result:\n",
            "[[11 22 33]\n",
            " [14 25 36]]\n",
            "Scalar multiplication:\n",
            "[[ 2  4  6]\n",
            " [ 8 10 12]]\n"
          ]
        }
      ]
    },
    {
      "cell_type": "markdown",
      "source": [
        "Pandas Learning"
      ],
      "metadata": {
        "id": "k9Mrulh1Noj7"
      }
    },
    {
      "cell_type": "code",
      "source": [
        "from google.colab import drive\n",
        "drive.mount('/content/drive')"
      ],
      "metadata": {
        "colab": {
          "base_uri": "https://localhost:8080/"
        },
        "id": "fftZC2cPQwRX",
        "outputId": "68fccc13-4127-4bb5-fe81-80d604025b9f"
      },
      "execution_count": 17,
      "outputs": [
        {
          "output_type": "stream",
          "name": "stdout",
          "text": [
            "Mounted at /content/drive\n"
          ]
        }
      ]
    },
    {
      "cell_type": "code",
      "source": [
        "# Pengenalan pandas\n",
        "import pandas as pd\n",
        "import numpy as np\n",
        "\n",
        "# Membuat Series\n",
        "series = pd.Series([1, 2, 3, 4, 5], index=['a', 'b', 'c', 'd', 'e'])\n",
        "print(f\"Series:\\n{series}\")\n",
        "\n",
        "# Membuat DataFrame\n",
        "data = {\n",
        "    'Name': ['Alice', 'Bob', 'Charlie', 'Diana'],\n",
        "    'Age': [25, 30, 35, 28],\n",
        "    'City': ['Jakarta', 'Bandung', 'Surabaya', 'Medan'],\n",
        "    'Salary': [5000000, 7000000, 8500000, 6200000]\n",
        "}\n",
        "\n",
        "df = pd.DataFrame(data)\n",
        "print(f\"\\nDataFrame:\\n{df}\")"
      ],
      "metadata": {
        "colab": {
          "base_uri": "https://localhost:8080/"
        },
        "id": "U37KJ3jpNrA1",
        "outputId": "81e0c65b-a094-4e86-fd0a-a77a416afb2b"
      },
      "execution_count": 15,
      "outputs": [
        {
          "output_type": "stream",
          "name": "stdout",
          "text": [
            "Series:\n",
            "a    1\n",
            "b    2\n",
            "c    3\n",
            "d    4\n",
            "e    5\n",
            "dtype: int64\n",
            "\n",
            "DataFrame:\n",
            "      Name  Age      City   Salary\n",
            "0    Alice   25   Jakarta  5000000\n",
            "1      Bob   30   Bandung  7000000\n",
            "2  Charlie   35  Surabaya  8500000\n",
            "3    Diana   28     Medan  6200000\n"
          ]
        }
      ]
    },
    {
      "cell_type": "code",
      "source": [
        "df = pd.DataFrame({\n",
        "    'Product': ['Laptop', 'Mouse', 'Keyboard', 'Monitor'],\n",
        "    'Price': [15000000, 250000, 750000, 3500000],\n",
        "    'Category': ['Electronics', 'Accessories', 'Accessories', 'Electronics'],\n",
        "    'Stock': [50, 200, 150, 75]\n",
        "})\n",
        "\n",
        "df.to_csv('/content/drive/MyDrive/Learn Python/output.csv', index=False)\n",
        "print(df)"
      ],
      "metadata": {
        "colab": {
          "base_uri": "https://localhost:8080/"
        },
        "id": "YImRqJhRUo0D",
        "outputId": "8344792b-264f-41ec-ecd1-3fec94468b0d"
      },
      "execution_count": 25,
      "outputs": [
        {
          "output_type": "stream",
          "name": "stdout",
          "text": [
            "    Product     Price     Category  Stock\n",
            "0    Laptop  15000000  Electronics     50\n",
            "1     Mouse    250000  Accessories    200\n",
            "2  Keyboard    750000  Accessories    150\n",
            "3   Monitor   3500000  Electronics     75\n"
          ]
        }
      ]
    },
    {
      "cell_type": "code",
      "source": [
        "import pandas as pd\n",
        "\n",
        "# Membuat sample dataset\n",
        "np.random.seed(42)\n",
        "n_samples = 1000\n",
        "\n",
        "df = pd.DataFrame({\n",
        "    'customer_id': range(1, n_samples + 1),\n",
        "    'age': np.random.randint(18, 80, n_samples),\n",
        "    'income': np.random.normal(50000, 15000, n_samples),\n",
        "    'spending': np.random.normal(30000, 8000, n_samples),\n",
        "    'category': np.random.choice(['A', 'B', 'C'], n_samples)\n",
        "})\n",
        "\n",
        "\n",
        "print(\"Dataset Info:\")\n",
        "print(f\"Shape: {df.shape}\")\n",
        "print(f\"Columns: {df.columns.to_list()}\")\n",
        "print(f\"Data types:\\n{df.dtypes}\")\n",
        "print(f\"\\nFirst 5 rows:\\n{df.head()}\")\n",
        "print(f\"\\nBasic statistics:\\n{df.describe()}\")\n",
        "print(f\"\\nMissing values:\\n{df.isnull().sum()}\")"
      ],
      "metadata": {
        "colab": {
          "base_uri": "https://localhost:8080/"
        },
        "id": "3VCFcLZYYCpr",
        "outputId": "aa7408dd-8c5a-47a4-e428-ea64e1552762"
      },
      "execution_count": 38,
      "outputs": [
        {
          "output_type": "stream",
          "name": "stdout",
          "text": [
            "Dataset Info:\n",
            "Shape: (1000, 5)\n",
            "Columns: ['customer_id', 'age', 'income', 'spending', 'category']\n",
            "Data types:\n",
            "customer_id      int64\n",
            "age              int64\n",
            "income         float64\n",
            "spending       float64\n",
            "category        object\n",
            "dtype: object\n",
            "\n",
            "First 5 rows:\n",
            "   customer_id  age        income      spending category\n",
            "0            1   56  70585.666948  29298.893937        A\n",
            "1            2   69  39833.208605  31221.743194        C\n",
            "2            3   46  67302.978080  34705.599480        A\n",
            "3            4   32  44374.840574  34069.345997        B\n",
            "4            5   60  39587.810697  10546.291430        A\n",
            "\n",
            "Basic statistics:\n",
            "       customer_id          age        income      spending\n",
            "count  1000.000000  1000.000000   1000.000000   1000.000000\n",
            "mean    500.500000    49.857000  50678.036054  30382.618802\n",
            "std     288.819436    18.114267  16015.803326   8112.162221\n",
            "min       1.000000    18.000000  -3523.079490   6787.810538\n",
            "25%     250.750000    35.000000  40583.054209  24864.020857\n",
            "50%     500.500000    50.000000  50996.463595  30543.499093\n",
            "75%     750.250000    66.000000  61447.977766  35908.404751\n",
            "max    1000.000000    79.000000  97616.632057  56037.178345\n",
            "\n",
            "Missing values:\n",
            "customer_id    0\n",
            "age            0\n",
            "income         0\n",
            "spending       0\n",
            "category       0\n",
            "dtype: int64\n"
          ]
        }
      ]
    }
  ]
}